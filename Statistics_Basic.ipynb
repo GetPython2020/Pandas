{
 "cells": [
  {
   "cell_type": "code",
   "execution_count": 1,
   "metadata": {},
   "outputs": [],
   "source": [
    "import numpy as np\n",
    "from scipy import stats"
   ]
  },
  {
   "cell_type": "markdown",
   "metadata": {},
   "source": [
    "### Mean, Median, Mode"
   ]
  },
  {
   "cell_type": "code",
   "execution_count": 3,
   "metadata": {},
   "outputs": [
    {
     "name": "stdout",
     "output_type": "stream",
     "text": [
      "5\n",
      "1 2 3 2 6\n",
      "2.8\n",
      "2.0\n",
      "2\n"
     ]
    }
   ],
   "source": [
    "size = int(input())\n",
    "numbers = list(map(int, input().split()))\n",
    "print(np.mean(numbers))\n",
    "print(np.median(numbers))\n",
    "print(int(stats.mode(numbers)[0]))"
   ]
  },
  {
   "cell_type": "markdown",
   "metadata": {},
   "source": [
    "### Weighted Mean"
   ]
  },
  {
   "cell_type": "code",
   "execution_count": 4,
   "metadata": {},
   "outputs": [
    {
     "name": "stdout",
     "output_type": "stream",
     "text": [
      "5\n",
      "10 40 30 50 20\n",
      "1 2 3 4 5\n",
      "32.0\n"
     ]
    }
   ],
   "source": [
    "size = int(input())\n",
    "\n",
    "num1 = list(map(int,input().split()))\n",
    "\n",
    "num2 = list(map(int,input().split()))\n",
    "\n",
    "m = len(num1)\n",
    "summ = 0\n",
    "for i in range(m):\n",
    "    summ += num1[i]*num2[i]\n",
    " \n",
    "wavg = round(summ/(sum(num2)),1)\n",
    "print(wavg)"
   ]
  },
  {
   "cell_type": "code",
   "execution_count": 2,
   "metadata": {},
   "outputs": [
    {
     "data": {
      "text/plain": [
       "30"
      ]
     },
     "execution_count": 2,
     "metadata": {},
     "output_type": "execute_result"
    }
   ],
   "source": [
    "arr1 = np.array([1,2,3,4])\n",
    "arr2 = np.array([1,2,3,4])\n",
    "\n",
    "sum(arr1*arr2)"
   ]
  },
  {
   "cell_type": "markdown",
   "metadata": {},
   "source": [
    "### Quartiles"
   ]
  },
  {
   "cell_type": "code",
   "execution_count": 5,
   "metadata": {},
   "outputs": [
    {
     "name": "stdout",
     "output_type": "stream",
     "text": [
      "9\n",
      "3 7 8 5 12 14 21 13 18\n",
      "6\n",
      "12\n",
      "16\n"
     ]
    }
   ],
   "source": [
    "# 25%, 50%, 75% \n",
    "def median(nums):\n",
    "    if len(nums)%2 == 0:\n",
    "        return int(sum(nums[len(nums)//2-1:len(nums)//2+1])/2)\n",
    "    else:\n",
    "        return nums[len(nums)//2]\n",
    "\n",
    "def quartiles(N,nums):\n",
    "    Q1 = median(nums[:len(nums)//2])\n",
    "    Q2 = median(nums)\n",
    "    if N%2 == 0:\n",
    "        Q3 = median(nums[len(nums)//2:])\n",
    "    else:\n",
    "        Q3 = median(nums[len(nums)//2+1:])\n",
    "    return Q1,Q2,Q3\n",
    "\n",
    "N = int(input())\n",
    "nums = sorted([int(num) for num in input().split()])\n",
    "Q1,Q2,Q3 = quartiles(N,nums)\n",
    "print(Q1)\n",
    "print(Q2)\n",
    "print(Q3)"
   ]
  },
  {
   "cell_type": "markdown",
   "metadata": {},
   "source": [
    "### Standard Deviation"
   ]
  },
  {
   "cell_type": "code",
   "execution_count": 6,
   "metadata": {},
   "outputs": [
    {
     "name": "stdout",
     "output_type": "stream",
     "text": [
      "5\n",
      "10 40 30 50 20\n",
      "14.1\n"
     ]
    }
   ],
   "source": [
    "from statistics import pstdev\n",
    "\n",
    "n,a=input(),list(map(int,input().split()))\n",
    "print(round(pstdev(a),1))"
   ]
  },
  {
   "cell_type": "code",
   "execution_count": 7,
   "metadata": {},
   "outputs": [
    {
     "name": "stdout",
     "output_type": "stream",
     "text": [
      "5\n",
      "10 40 30 50 20\n",
      "14.1\n"
     ]
    }
   ],
   "source": [
    "import math\n",
    "N = int(input())\n",
    "arr = input()\n",
    "numbers = [int(i) for i in arr.split(' ')]\n",
    "summ = 0\n",
    "for num in numbers:\n",
    "    summ += num\n",
    "    \n",
    "average = summ/N\n",
    "sub = 0\n",
    "for value in numbers:\n",
    "    sub += (value-average)**2\n",
    "std = round(math.sqrt(sub/N),1)\n",
    "print(std)"
   ]
  },
  {
   "cell_type": "code",
   "execution_count": null,
   "metadata": {},
   "outputs": [],
   "source": []
  }
 ],
 "metadata": {
  "kernelspec": {
   "display_name": "Python 3",
   "language": "python",
   "name": "python3"
  },
  "language_info": {
   "codemirror_mode": {
    "name": "ipython",
    "version": 3
   },
   "file_extension": ".py",
   "mimetype": "text/x-python",
   "name": "python",
   "nbconvert_exporter": "python",
   "pygments_lexer": "ipython3",
   "version": "3.8.2"
  }
 },
 "nbformat": 4,
 "nbformat_minor": 4
}
