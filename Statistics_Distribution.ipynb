{
 "cells": [
  {
   "cell_type": "markdown",
   "metadata": {},
   "source": [
    "### Geometric distribution 几何分布 （1-p)^(n-1)*p"
   ]
  },
  {
   "cell_type": "code",
   "execution_count": 1,
   "metadata": {},
   "outputs": [
    {
     "name": "stdout",
     "output_type": "stream",
     "text": [
      "1 3\n",
      "5\n",
      "0.066\n"
     ]
    }
   ],
   "source": [
    "num, den = list(map(int,input().split()))\n",
    "n = int(input())\n",
    "p = num/den # possibility of event occur\n",
    "\n",
    "#n次抽样，事件发生在第n次的概率，每次可能发生该事件的概率是p\n",
    "posb = round((1-p)**(n-1)*p,3) # event first occured at the nth time \n",
    "print(posb)"
   ]
  },
  {
   "cell_type": "code",
   "execution_count": 2,
   "metadata": {},
   "outputs": [
    {
     "name": "stdout",
     "output_type": "stream",
     "text": [
      "1 3\n",
      "5\n",
      "0.868\n"
     ]
    }
   ],
   "source": [
    "num,den = list(map(int,input().split()))\n",
    "n = int(input())\n",
    "p = num/den\n",
    "\n",
    "#n次抽样，事件发生在前n次的概率 p(1)+p(2)+...+p(n)\n",
    "po = [(1-p)**(i-1)*p for i in range(1,n+1)]\n",
    "posb = sum(po)\n",
    "print(round(posb,3))"
   ]
  },
  {
   "cell_type": "markdown",
   "metadata": {},
   "source": [
    "### Binomial Distribution 二项式分布 C(n,x)p^x*(1-p)^(n-x)"
   ]
  },
  {
   "cell_type": "code",
   "execution_count": 4,
   "metadata": {},
   "outputs": [
    {
     "name": "stdout",
     "output_type": "stream",
     "text": [
      "1.09 1\n",
      "0.696\n"
     ]
    }
   ],
   "source": [
    "# boys to girls 1.09:1,\n",
    "# possibility of 6 children will have at least 3 boys\n",
    "# n次抽样中 事件发生 x 次的概率，每次是该事件的概率 p\n",
    "\n",
    "Nb,Ng = list(map(float,input().split(' ')))\n",
    "\n",
    "Pb = Nb/(Nb+Ng)\n",
    "Pg = 1- Pb\n",
    "\n",
    "def fact(n):\n",
    "    return 1 if n==0 else n*fact(n-1)\n",
    "def comb(n,x):\n",
    "    return fact(n)/(fact(x)*fact(n-x))\n",
    "\n",
    "def b(n,x,p):\n",
    "    return comb(n,x)* p**x * (1-p)**(n-x)\n",
    "\n",
    "print(round(sum([b(6,i,Pb) for i in range(3,7)]),3))"
   ]
  },
  {
   "cell_type": "code",
   "execution_count": 5,
   "metadata": {},
   "outputs": [
    {
     "name": "stdout",
     "output_type": "stream",
     "text": [
      "0.696\n"
     ]
    }
   ],
   "source": [
    "import math\n",
    "\n",
    "def bi_dist(x, n, p):\n",
    "    b = (math.factorial(n)/(math.factorial(x)*math.factorial(n-x)))*(p**x)*((1-p)**(n-x))\n",
    "    return(b)\n",
    "\n",
    "b, p, n = 0, 1.09/2.09, 6\n",
    "for i in range(3,7):\n",
    "    b += bi_dist(i, n, p)   \n",
    "print(\"%.3f\" %b)"
   ]
  },
  {
   "cell_type": "markdown",
   "metadata": {},
   "source": [
    "### Poisson Distribution"
   ]
  },
  {
   "cell_type": "markdown",
   "metadata": {},
   "source": [
    "p(x=k)=λ^k/k!*e^-λ\n",
    "\n",
    "单位时间（或空间）内随机事件发生的次数(k), λ是单位时间(或单位面积)内该随机事件的平均发生次数"
   ]
  },
  {
   "cell_type": "code",
   "execution_count": 6,
   "metadata": {},
   "outputs": [
    {
     "name": "stdout",
     "output_type": "stream",
     "text": [
      "2.5\n",
      "5\n",
      "0.067\n"
     ]
    }
   ],
   "source": [
    "lam = float(input())\n",
    "k = float(input())\n",
    "\n",
    "p = lam**k/math.factorial(k)*math.exp(-lam)\n",
    "\n",
    "print(round(p,3))"
   ]
  },
  {
   "cell_type": "markdown",
   "metadata": {},
   "source": [
    "### Normal Distribution "
   ]
  },
  {
   "cell_type": "markdown",
   "metadata": {},
   "source": [
    "连续型随机变量分布,对于连续型随机变量，我们不关注“点概率”，只关注“区间概率”. 连续型随机变量取任意某个确定的值的概率均为0. 概率的大小就是“概率密度函数曲线下的面积”的大小.\n",
    "一旦谈及正态分布，我们首先要想到它的两个参数：均数是多少和标准差是几. \n",
    "1）概率密度曲线在均值处达到最大，并且对称；\n",
    "2）一旦均值和标准差确定，正态分布曲线也就确定；\n",
    "3）当X的取值向横轴左右两个方向无限延伸时，曲线的两个尾端也无限渐近横轴，理论上永远不会与之相交；\n",
    "4）正态随机变量在特定区间上的取值概率由正态曲线下的面积给出，而且其曲线下的总面积等于1 ；\n",
    "5）均值可取实数轴上的任意数值，决定正态曲线的具体位置；标准差决定曲线的“陡峭”或“扁平”程度：标准差越大，正态曲线越扁平；标准差越小，正态曲线越陡峭。"
   ]
  },
  {
   "cell_type": "code",
   "execution_count": 7,
   "metadata": {},
   "outputs": [
    {
     "name": "stdout",
     "output_type": "stream",
     "text": [
      "0.401\n",
      "0.341\n"
     ]
    }
   ],
   "source": [
    "import scipy.stats as st\n",
    "\n",
    "mean, std = 20, 2\n",
    "p1=st.norm.cdf(19.5, mean, std) # possibility of less than 19.5\n",
    "p2=st.norm.cdf(22,mean, std)-st.norm.cdf(20, mean, std) # possibility of between 20 and 22\n",
    "print('%.3f\\n%.3f' % (p1,p2))"
   ]
  },
  {
   "cell_type": "code",
   "execution_count": 8,
   "metadata": {},
   "outputs": [
    {
     "name": "stdout",
     "output_type": "stream",
     "text": [
      "20 2\n",
      "19.5\n",
      "20 22\n",
      "0.401\n",
      "0.341\n"
     ]
    }
   ],
   "source": [
    "import math\n",
    "\n",
    "mean, std = list(map(float,input().split())) # input mean, std values\n",
    "t1 = float(input()) # first threshold\n",
    "t2, t3 = list(map(float,input().split()))\n",
    "\n",
    "cdf = lambda x: 0.5 * (1 + math.erf((x - mean) / (std * (2 ** 0.5))))\n",
    "\n",
    "# Less than 19.5\n",
    "print('{:.3f}'.format(cdf(t1)))\n",
    "# Between 20 and 22\n",
    "print('{:.3f}'.format(cdf(t3) - cdf(t2)))"
   ]
  },
  {
   "cell_type": "markdown",
   "metadata": {},
   "source": [
    "中心极限定理指的是给定一个任意分布的总体。我每次从这些总体中随机抽取 n 个抽样，一共抽 m 次。 然后把这 m 组抽样分别求出平均值。 这些平均值的分布接近正态分布。"
   ]
  },
  {
   "cell_type": "code",
   "execution_count": 10,
   "metadata": {},
   "outputs": [],
   "source": [
    "s='abcdefg'"
   ]
  },
  {
   "cell_type": "code",
   "execution_count": 11,
   "metadata": {},
   "outputs": [
    {
     "data": {
      "text/plain": [
       "'aceg'"
      ]
     },
     "execution_count": 11,
     "metadata": {},
     "output_type": "execute_result"
    }
   ],
   "source": [
    "s1=s[::2]"
   ]
  },
  {
   "cell_type": "code",
   "execution_count": 12,
   "metadata": {},
   "outputs": [
    {
     "data": {
      "text/plain": [
       "'bdf'"
      ]
     },
     "execution_count": 12,
     "metadata": {},
     "output_type": "execute_result"
    }
   ],
   "source": [
    "s2=s[1::2]"
   ]
  },
  {
   "cell_type": "code",
   "execution_count": 13,
   "metadata": {},
   "outputs": [],
   "source": [
    "s1=s[::2]\n",
    "s2=s[1::2]"
   ]
  },
  {
   "cell_type": "code",
   "execution_count": 14,
   "metadata": {},
   "outputs": [
    {
     "data": {
      "text/plain": [
       "['aceg', 'bdf']"
      ]
     },
     "execution_count": 14,
     "metadata": {},
     "output_type": "execute_result"
    }
   ],
   "source": [
    "[s1,s2]"
   ]
  },
  {
   "cell_type": "code",
   "execution_count": 15,
   "metadata": {},
   "outputs": [
    {
     "name": "stdout",
     "output_type": "stream",
     "text": [
      "aceg bdf\n"
     ]
    }
   ],
   "source": [
    "print(*[s1,s2])"
   ]
  },
  {
   "cell_type": "code",
   "execution_count": 16,
   "metadata": {},
   "outputs": [
    {
     "name": "stdout",
     "output_type": "stream",
     "text": [
      "aceg bdf\n"
     ]
    }
   ],
   "source": [
    "print(s1,s2)"
   ]
  },
  {
   "cell_type": "code",
   "execution_count": 17,
   "metadata": {},
   "outputs": [
    {
     "name": "stdout",
     "output_type": "stream",
     "text": [
      "1 2 3 4\n"
     ]
    },
    {
     "data": {
      "text/plain": [
       "['1', '2', '3', '4']"
      ]
     },
     "execution_count": 17,
     "metadata": {},
     "output_type": "execute_result"
    }
   ],
   "source": [
    "input().rstrip().split()"
   ]
  },
  {
   "cell_type": "code",
   "execution_count": 18,
   "metadata": {},
   "outputs": [
    {
     "data": {
      "text/plain": [
       "'1 2 3 4'"
      ]
     },
     "execution_count": 18,
     "metadata": {},
     "output_type": "execute_result"
    }
   ],
   "source": [
    "' '.join(['1', '2', '3', '4'])\n"
   ]
  },
  {
   "cell_type": "code",
   "execution_count": null,
   "metadata": {},
   "outputs": [],
   "source": []
  }
 ],
 "metadata": {
  "kernelspec": {
   "display_name": "Python 3",
   "language": "python",
   "name": "python3"
  },
  "language_info": {
   "codemirror_mode": {
    "name": "ipython",
    "version": 3
   },
   "file_extension": ".py",
   "mimetype": "text/x-python",
   "name": "python",
   "nbconvert_exporter": "python",
   "pygments_lexer": "ipython3",
   "version": "3.8.2"
  }
 },
 "nbformat": 4,
 "nbformat_minor": 4
}
